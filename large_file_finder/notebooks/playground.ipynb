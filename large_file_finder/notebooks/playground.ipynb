{
 "cells": [
  {
   "cell_type": "code",
   "execution_count": 3,
   "metadata": {},
   "outputs": [],
   "source": [
    "import os\n",
    "import click\n",
    "from pathlib import Path\n",
    "from rich.console import Console\n",
    "from rich.style import Style\n",
    "from rich.color import Color\n",
    "from pathlib import Path"
   ]
  },
  {
   "cell_type": "code",
   "execution_count": 4,
   "metadata": {},
   "outputs": [],
   "source": [
    "library_path = Path.home() / 'Library'"
   ]
  },
  {
   "cell_type": "code",
   "execution_count": 13,
   "metadata": {},
   "outputs": [],
   "source": [
    "console = Console()\n",
    "\n",
    "fg_parent = Color.from_rgb(255,255,102) # Yellow\n",
    "bg_parent = Color.from_rgb(160,160,160) # Grey\n",
    "heading_ = Style(color='green', bold=True, underline=True, bgcolor='black')\n",
    "parent_ = Style(color=fg_parent, bold=True, bgcolor=bg_parent)\n",
    "sub_ = Style(color='red')\n",
    "num = 234"
   ]
  },
  {
   "cell_type": "code",
   "execution_count": 14,
   "metadata": {},
   "outputs": [
    {
     "data": {
      "text/html": [
       "<pre style=\"white-space:pre;overflow-x:auto;line-height:normal;font-family:Menlo,'DejaVu Sans Mono',consolas,'Courier New',monospace\"><span style=\"color: #800080; text-decoration-color: #800080\">/Users/annandvirk/</span><span style=\"color: #ff00ff; text-decoration-color: #ff00ff\">Library</span><span style=\"color: #800000; text-decoration-color: #800000\">: </span><span style=\"color: #008080; text-decoration-color: #008080; font-weight: bold\">234</span>\n",
       "</pre>\n"
      ],
      "text/plain": [
       "\u001b[35m/Users/annandvirk/\u001b[0m\u001b[95mLibrary\u001b[0m\u001b[31m: \u001b[0m\u001b[1;36m234\u001b[0m\n"
      ]
     },
     "metadata": {},
     "output_type": "display_data"
    }
   ],
   "source": [
    "console.print(f'{library_path}: {num}', style=sub_)"
   ]
  }
 ],
 "metadata": {
  "kernelspec": {
   "display_name": "the_bastion",
   "language": "python",
   "name": "python3"
  },
  "language_info": {
   "codemirror_mode": {
    "name": "ipython",
    "version": 3
   },
   "file_extension": ".py",
   "mimetype": "text/x-python",
   "name": "python",
   "nbconvert_exporter": "python",
   "pygments_lexer": "ipython3",
   "version": "3.10.6"
  }
 },
 "nbformat": 4,
 "nbformat_minor": 2
}
